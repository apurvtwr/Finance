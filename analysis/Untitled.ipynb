{
 "cells": [
  {
   "cell_type": "code",
   "execution_count": 16,
   "metadata": {},
   "outputs": [],
   "source": [
    "import ipython_setup\n",
    "from get_all_tickers.get_tickers import get_tickers\n",
    "from yahoo_fin.stock_info import get_balance_sheet, get_quote_table\n",
    "from data.models import Company, BalanceSheet\n",
    "import json\n",
    "from pprint import pprint\n",
    "import pandas as pd"
   ]
  },
  {
   "cell_type": "code",
   "execution_count": 26,
   "metadata": {},
   "outputs": [
    {
     "name": "stdout",
     "output_type": "stream",
     "text": [
      "4209\n"
     ]
    },
    {
     "data": {
      "text/plain": [
       "'{\"Breakdown\":{\"0\":\"Total Assets\",\"1\":\"Total Liabilities Net Minority Interest\",\"2\":\"Total Equity Gross Minority Interest\",\"3\":\"Total Capitalization\",\"4\":\"Common Stock Equity\",\"5\":\"Net Tangible Assets\",\"6\":\"Invested Capital\",\"7\":\"Tangible Book Value\",\"8\":\"Total Debt\",\"9\":\"Net Debt\",\"10\":\"Share Issued\",\"11\":\"Ordinary Shares Number\"},\"5\\\\/31\\\\/2019\":{\"0\":\"207746\",\"1\":\"61316\",\"2\":\"146430\",\"3\":\"147560\",\"4\":\"146430\",\"5\":\"146430\",\"6\":\"147560\",\"7\":\"146430\",\"8\":\"1130\",\"9\":\"215.203\",\"10\":\"7412\",\"11\":\"7412\"},\"5\\\\/31\\\\/2018\":{\"0\":\"240976\",\"1\":\"82743\",\"2\":\"158234\",\"3\":\"158623\",\"4\":\"158234\",\"5\":\"158234\",\"6\":\"158623\",\"7\":\"158234\",\"8\":\"389.804\",\"9\":\"-\",\"10\":\"7370\",\"11\":\"7370\"}}'"
      ]
     },
     "execution_count": 26,
     "metadata": {},
     "output_type": "execute_result"
    }
   ],
   "source": [
    "bs = BalanceSheet.objects.all()\n",
    "print(len(bs))\n",
    "bs = bs.order_by(\"?\")[0]\n",
    "bs.data"
   ]
  },
  {
   "cell_type": "code",
   "execution_count": 19,
   "metadata": {},
   "outputs": [],
   "source": [
    "x = get_quote_table(\"AAPL\")"
   ]
  },
  {
   "cell_type": "code",
   "execution_count": 20,
   "metadata": {},
   "outputs": [
    {
     "data": {
      "text/plain": [
       "1537000000000.0"
      ]
     },
     "execution_count": 20,
     "metadata": {},
     "output_type": "execute_result"
    }
   ],
   "source": [
    "def market_cap(x) :\n",
    "    m_cap = x[\"Market Cap\"]\n",
    "    if m_cap.endswith(\"T\") :\n",
    "        return float(m_cap[:-1]) * 1e12\n",
    "    if m_cap.endswith(\"B\") :\n",
    "        return float(m_cap[:-1]) * 1e9\n",
    "    if m_cap.endswith(\"M\") :\n",
    "        return float(m_cap[:-1]) * 1e6\n",
    "    return float(m_cap)\n",
    "\n",
    "market_cap(x)"
   ]
  },
  {
   "cell_type": "code",
   "execution_count": 24,
   "metadata": {},
   "outputs": [
    {
     "data": {
      "text/plain": [
       "{'1y Target Est': 318.84,\n",
       " '52 Week Range': '190.30 - 354.77',\n",
       " 'Ask': '353.62 x 1400',\n",
       " 'Avg. Volume': 44967770.0,\n",
       " 'Beta (5Y Monthly)': 1.17,\n",
       " 'Bid': '353.61 x 800',\n",
       " \"Day's Range\": '346.09 - 354.77',\n",
       " 'EPS (TTM)': 12.73,\n",
       " 'Earnings Date': 'Jul 28, 2020 - Aug 03, 2020',\n",
       " 'Ex-Dividend Date': 'May 08, 2020',\n",
       " 'Forward Dividend & Yield': '3.28 (0.95%)',\n",
       " 'Market Cap': '1.537T',\n",
       " 'Open': 347.9,\n",
       " 'PE Ratio (TTM)': 27.85,\n",
       " 'Previous Close': 343.99,\n",
       " 'Quote Price': 354.489990234375,\n",
       " 'Volume': 36245587.0}"
      ]
     },
     "execution_count": 24,
     "metadata": {},
     "output_type": "execute_result"
    }
   ],
   "source": [
    "x"
   ]
  },
  {
   "cell_type": "code",
   "execution_count": 11,
   "metadata": {},
   "outputs": [
    {
     "data": {
      "text/html": [
       "<div>\n",
       "<style scoped>\n",
       "    .dataframe tbody tr th:only-of-type {\n",
       "        vertical-align: middle;\n",
       "    }\n",
       "\n",
       "    .dataframe tbody tr th {\n",
       "        vertical-align: top;\n",
       "    }\n",
       "\n",
       "    .dataframe thead th {\n",
       "        text-align: right;\n",
       "    }\n",
       "</style>\n",
       "<table border=\"1\" class=\"dataframe\">\n",
       "  <thead>\n",
       "    <tr style=\"text-align: right;\">\n",
       "      <th></th>\n",
       "      <th>Breakdown</th>\n",
       "      <th>9/30/2019</th>\n",
       "      <th>9/30/2018</th>\n",
       "      <th>9/30/2017</th>\n",
       "      <th>9/30/2016</th>\n",
       "    </tr>\n",
       "  </thead>\n",
       "  <tbody>\n",
       "    <tr>\n",
       "      <th>0</th>\n",
       "      <td>Total Assets</td>\n",
       "      <td>338516000</td>\n",
       "      <td>365725000</td>\n",
       "      <td>375319000</td>\n",
       "      <td>321686000</td>\n",
       "    </tr>\n",
       "    <tr>\n",
       "      <th>1</th>\n",
       "      <td>Total Liabilities Net Minority Interest</td>\n",
       "      <td>248028000</td>\n",
       "      <td>258578000</td>\n",
       "      <td>241272000</td>\n",
       "      <td>193437000</td>\n",
       "    </tr>\n",
       "    <tr>\n",
       "      <th>2</th>\n",
       "      <td>Total Equity Gross Minority Interest</td>\n",
       "      <td>90488000</td>\n",
       "      <td>107147000</td>\n",
       "      <td>134047000</td>\n",
       "      <td>128249000</td>\n",
       "    </tr>\n",
       "    <tr>\n",
       "      <th>3</th>\n",
       "      <td>Total Capitalization</td>\n",
       "      <td>182295000</td>\n",
       "      <td>200882000</td>\n",
       "      <td>231254000</td>\n",
       "      <td>203676000</td>\n",
       "    </tr>\n",
       "    <tr>\n",
       "      <th>4</th>\n",
       "      <td>Common Stock Equity</td>\n",
       "      <td>90488000</td>\n",
       "      <td>107147000</td>\n",
       "      <td>134047000</td>\n",
       "      <td>128249000</td>\n",
       "    </tr>\n",
       "    <tr>\n",
       "      <th>5</th>\n",
       "      <td>Net Tangible Assets</td>\n",
       "      <td>90488000</td>\n",
       "      <td>107147000</td>\n",
       "      <td>126032000</td>\n",
       "      <td>119629000</td>\n",
       "    </tr>\n",
       "    <tr>\n",
       "      <th>6</th>\n",
       "      <td>Working Capital</td>\n",
       "      <td>57101000</td>\n",
       "      <td>14473000</td>\n",
       "      <td>27831000</td>\n",
       "      <td>27863000</td>\n",
       "    </tr>\n",
       "    <tr>\n",
       "      <th>7</th>\n",
       "      <td>Invested Capital</td>\n",
       "      <td>198535000</td>\n",
       "      <td>221630000</td>\n",
       "      <td>249727000</td>\n",
       "      <td>215281000</td>\n",
       "    </tr>\n",
       "    <tr>\n",
       "      <th>8</th>\n",
       "      <td>Tangible Book Value</td>\n",
       "      <td>90488000</td>\n",
       "      <td>107147000</td>\n",
       "      <td>126032000</td>\n",
       "      <td>119629000</td>\n",
       "    </tr>\n",
       "    <tr>\n",
       "      <th>9</th>\n",
       "      <td>Total Debt</td>\n",
       "      <td>108047000</td>\n",
       "      <td>114483000</td>\n",
       "      <td>115680000</td>\n",
       "      <td>87032000</td>\n",
       "    </tr>\n",
       "    <tr>\n",
       "      <th>10</th>\n",
       "      <td>Net Debt</td>\n",
       "      <td>59203000</td>\n",
       "      <td>88570000</td>\n",
       "      <td>95391000</td>\n",
       "      <td>66548000</td>\n",
       "    </tr>\n",
       "    <tr>\n",
       "      <th>11</th>\n",
       "      <td>Share Issued</td>\n",
       "      <td>4443236</td>\n",
       "      <td>4754986</td>\n",
       "      <td>5126201</td>\n",
       "      <td>5336166</td>\n",
       "    </tr>\n",
       "    <tr>\n",
       "      <th>12</th>\n",
       "      <td>Ordinary Shares Number</td>\n",
       "      <td>4443236</td>\n",
       "      <td>4754986</td>\n",
       "      <td>5126201</td>\n",
       "      <td>5336166</td>\n",
       "    </tr>\n",
       "  </tbody>\n",
       "</table>\n",
       "</div>"
      ],
      "text/plain": [
       "                                  Breakdown  9/30/2019  9/30/2018  9/30/2017  \\\n",
       "0                              Total Assets  338516000  365725000  375319000   \n",
       "1   Total Liabilities Net Minority Interest  248028000  258578000  241272000   \n",
       "2      Total Equity Gross Minority Interest   90488000  107147000  134047000   \n",
       "3                      Total Capitalization  182295000  200882000  231254000   \n",
       "4                       Common Stock Equity   90488000  107147000  134047000   \n",
       "5                       Net Tangible Assets   90488000  107147000  126032000   \n",
       "6                           Working Capital   57101000   14473000   27831000   \n",
       "7                          Invested Capital  198535000  221630000  249727000   \n",
       "8                       Tangible Book Value   90488000  107147000  126032000   \n",
       "9                                Total Debt  108047000  114483000  115680000   \n",
       "10                                 Net Debt   59203000   88570000   95391000   \n",
       "11                             Share Issued    4443236    4754986    5126201   \n",
       "12                   Ordinary Shares Number    4443236    4754986    5126201   \n",
       "\n",
       "    9/30/2016  \n",
       "0   321686000  \n",
       "1   193437000  \n",
       "2   128249000  \n",
       "3   203676000  \n",
       "4   128249000  \n",
       "5   119629000  \n",
       "6    27863000  \n",
       "7   215281000  \n",
       "8   119629000  \n",
       "9    87032000  \n",
       "10   66548000  \n",
       "11    5336166  \n",
       "12    5336166  "
      ]
     },
     "execution_count": 11,
     "metadata": {},
     "output_type": "execute_result"
    }
   ],
   "source": [
    "apple = Company.objects.filter(ticker='AAPL')[0]\n",
    "bs = BalanceSheet.objects.filter(company=apple)[0]\n",
    "bs.df"
   ]
  },
  {
   "cell_type": "code",
   "execution_count": 12,
   "metadata": {},
   "outputs": [
    {
     "data": {
      "text/plain": [
       "338516000000.0"
      ]
     },
     "execution_count": 12,
     "metadata": {},
     "output_type": "execute_result"
    }
   ],
   "source": [
    "bs.total_assets()"
   ]
  },
  {
   "cell_type": "code",
   "execution_count": 9,
   "metadata": {},
   "outputs": [
    {
     "data": {
      "text/plain": [
       "108047000000.0"
      ]
     },
     "execution_count": 9,
     "metadata": {},
     "output_type": "execute_result"
    }
   ],
   "source": [
    "bs.total_debt()"
   ]
  },
  {
   "cell_type": "code",
   "execution_count": 6,
   "metadata": {},
   "outputs": [
    {
     "data": {
      "text/html": [
       "<div>\n",
       "<style scoped>\n",
       "    .dataframe tbody tr th:only-of-type {\n",
       "        vertical-align: middle;\n",
       "    }\n",
       "\n",
       "    .dataframe tbody tr th {\n",
       "        vertical-align: top;\n",
       "    }\n",
       "\n",
       "    .dataframe thead th {\n",
       "        text-align: right;\n",
       "    }\n",
       "</style>\n",
       "<table border=\"1\" class=\"dataframe\">\n",
       "  <thead>\n",
       "    <tr style=\"text-align: right;\">\n",
       "      <th></th>\n",
       "      <th>Breakdown</th>\n",
       "      <th>9/30/2019</th>\n",
       "      <th>9/30/2018</th>\n",
       "      <th>9/30/2017</th>\n",
       "      <th>9/30/2016</th>\n",
       "    </tr>\n",
       "  </thead>\n",
       "  <tbody>\n",
       "    <tr>\n",
       "      <th>0</th>\n",
       "      <td>Total Assets</td>\n",
       "      <td>338516000</td>\n",
       "      <td>365725000</td>\n",
       "      <td>375319000</td>\n",
       "      <td>321686000</td>\n",
       "    </tr>\n",
       "    <tr>\n",
       "      <th>1</th>\n",
       "      <td>Total Liabilities Net Minority Interest</td>\n",
       "      <td>248028000</td>\n",
       "      <td>258578000</td>\n",
       "      <td>241272000</td>\n",
       "      <td>193437000</td>\n",
       "    </tr>\n",
       "    <tr>\n",
       "      <th>2</th>\n",
       "      <td>Total Equity Gross Minority Interest</td>\n",
       "      <td>90488000</td>\n",
       "      <td>107147000</td>\n",
       "      <td>134047000</td>\n",
       "      <td>128249000</td>\n",
       "    </tr>\n",
       "    <tr>\n",
       "      <th>3</th>\n",
       "      <td>Total Capitalization</td>\n",
       "      <td>182295000</td>\n",
       "      <td>200882000</td>\n",
       "      <td>231254000</td>\n",
       "      <td>203676000</td>\n",
       "    </tr>\n",
       "    <tr>\n",
       "      <th>4</th>\n",
       "      <td>Common Stock Equity</td>\n",
       "      <td>90488000</td>\n",
       "      <td>107147000</td>\n",
       "      <td>134047000</td>\n",
       "      <td>128249000</td>\n",
       "    </tr>\n",
       "    <tr>\n",
       "      <th>5</th>\n",
       "      <td>Net Tangible Assets</td>\n",
       "      <td>90488000</td>\n",
       "      <td>107147000</td>\n",
       "      <td>126032000</td>\n",
       "      <td>119629000</td>\n",
       "    </tr>\n",
       "    <tr>\n",
       "      <th>6</th>\n",
       "      <td>Working Capital</td>\n",
       "      <td>57101000</td>\n",
       "      <td>14473000</td>\n",
       "      <td>27831000</td>\n",
       "      <td>27863000</td>\n",
       "    </tr>\n",
       "    <tr>\n",
       "      <th>7</th>\n",
       "      <td>Invested Capital</td>\n",
       "      <td>198535000</td>\n",
       "      <td>221630000</td>\n",
       "      <td>249727000</td>\n",
       "      <td>215281000</td>\n",
       "    </tr>\n",
       "    <tr>\n",
       "      <th>8</th>\n",
       "      <td>Tangible Book Value</td>\n",
       "      <td>90488000</td>\n",
       "      <td>107147000</td>\n",
       "      <td>126032000</td>\n",
       "      <td>119629000</td>\n",
       "    </tr>\n",
       "    <tr>\n",
       "      <th>9</th>\n",
       "      <td>Total Debt</td>\n",
       "      <td>108047000</td>\n",
       "      <td>114483000</td>\n",
       "      <td>115680000</td>\n",
       "      <td>87032000</td>\n",
       "    </tr>\n",
       "    <tr>\n",
       "      <th>10</th>\n",
       "      <td>Net Debt</td>\n",
       "      <td>59203000</td>\n",
       "      <td>88570000</td>\n",
       "      <td>95391000</td>\n",
       "      <td>66548000</td>\n",
       "    </tr>\n",
       "    <tr>\n",
       "      <th>11</th>\n",
       "      <td>Share Issued</td>\n",
       "      <td>4443236</td>\n",
       "      <td>4754986</td>\n",
       "      <td>5126201</td>\n",
       "      <td>5336166</td>\n",
       "    </tr>\n",
       "    <tr>\n",
       "      <th>12</th>\n",
       "      <td>Ordinary Shares Number</td>\n",
       "      <td>4443236</td>\n",
       "      <td>4754986</td>\n",
       "      <td>5126201</td>\n",
       "      <td>5336166</td>\n",
       "    </tr>\n",
       "  </tbody>\n",
       "</table>\n",
       "</div>"
      ],
      "text/plain": [
       "                                  Breakdown  9/30/2019  9/30/2018  9/30/2017  \\\n",
       "0                              Total Assets  338516000  365725000  375319000   \n",
       "1   Total Liabilities Net Minority Interest  248028000  258578000  241272000   \n",
       "2      Total Equity Gross Minority Interest   90488000  107147000  134047000   \n",
       "3                      Total Capitalization  182295000  200882000  231254000   \n",
       "4                       Common Stock Equity   90488000  107147000  134047000   \n",
       "5                       Net Tangible Assets   90488000  107147000  126032000   \n",
       "6                           Working Capital   57101000   14473000   27831000   \n",
       "7                          Invested Capital  198535000  221630000  249727000   \n",
       "8                       Tangible Book Value   90488000  107147000  126032000   \n",
       "9                                Total Debt  108047000  114483000  115680000   \n",
       "10                                 Net Debt   59203000   88570000   95391000   \n",
       "11                             Share Issued    4443236    4754986    5126201   \n",
       "12                   Ordinary Shares Number    4443236    4754986    5126201   \n",
       "\n",
       "    9/30/2016  \n",
       "0   321686000  \n",
       "1   193437000  \n",
       "2   128249000  \n",
       "3   203676000  \n",
       "4   128249000  \n",
       "5   119629000  \n",
       "6    27863000  \n",
       "7   215281000  \n",
       "8   119629000  \n",
       "9    87032000  \n",
       "10   66548000  \n",
       "11    5336166  \n",
       "12    5336166  "
      ]
     },
     "execution_count": 6,
     "metadata": {},
     "output_type": "execute_result"
    }
   ],
   "source": [
    "bs.df"
   ]
  },
  {
   "cell_type": "code",
   "execution_count": 9,
   "metadata": {},
   "outputs": [
    {
     "data": {
      "text/plain": [
       "True"
      ]
     },
     "execution_count": 9,
     "metadata": {},
     "output_type": "execute_result"
    }
   ],
   "source": [
    "datetime(2019, 12, 31, 0, 0) == datetime.strptime(\"12/31/2019\", '%m/%d/%Y')"
   ]
  },
  {
   "cell_type": "code",
   "execution_count": 11,
   "metadata": {},
   "outputs": [
    {
     "data": {
      "text/plain": [
       "True"
      ]
     },
     "execution_count": 11,
     "metadata": {},
     "output_type": "execute_result"
    }
   ],
   "source": []
  },
  {
   "cell_type": "code",
   "execution_count": null,
   "metadata": {},
   "outputs": [],
   "source": []
  }
 ],
 "metadata": {
  "kernelspec": {
   "display_name": "Python 3",
   "language": "python",
   "name": "python3"
  },
  "language_info": {
   "codemirror_mode": {
    "name": "ipython",
    "version": 3
   },
   "file_extension": ".py",
   "mimetype": "text/x-python",
   "name": "python",
   "nbconvert_exporter": "python",
   "pygments_lexer": "ipython3",
   "version": "3.7.6"
  }
 },
 "nbformat": 4,
 "nbformat_minor": 4
}
