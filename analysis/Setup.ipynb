{
 "cells": [
  {
   "cell_type": "code",
   "execution_count": 1,
   "metadata": {},
   "outputs": [],
   "source": [
    "import ipython_setup\n",
    "from yahoofinancials import YahooFinancials\n",
    "from Finance.settings import TIINGO_API_KEY\n",
    "import pandas as pd\n",
    "from joblib import Parallel, delayed\n",
    "from tiingo import TiingoClient\n",
    "from data.models import Company, BalanceSheet, IncomeStatement, CashFlowStatement\n",
    "from tqdm import tqdm\n",
    "config = {}\n",
    "config['session'] = True\n",
    "config['api_key'] = TIINGO_API_KEY\n",
    "\n",
    "client = TiingoClient(config)"
   ]
  },
  {
   "cell_type": "code",
   "execution_count": null,
   "metadata": {
    "collapsed": true,
    "jupyter": {
     "outputs_hidden": true
    }
   },
   "outputs": [
    {
     "name": "stdout",
     "output_type": "stream",
     "text": [
      "Warning! Ticker: AGA1 error - <class 'yahoofinancials.ManagedException'>\n",
      "The process is still running...\n",
      "Warning! Ticker: AGCH error - <class 'yahoofinancials.ManagedException'>\n",
      "The process is still running...\n",
      "Warning! Ticker: AGAM error - <class 'yahoofinancials.ManagedException'>\n",
      "The process is still running...\n",
      "Warning! Ticker: AGBAR error - <class 'yahoofinancials.ManagedException'>\n",
      "The process is still running...\n",
      "Warning! Ticker: AGAM1 error - <class 'yahoofinancials.ManagedException'>\n",
      "The process is still running...\n",
      "Warning! Ticker: AG error - <class 'yahoofinancials.ManagedException'>\n",
      "The process is still running...\n",
      "Warning! Ticker: AGBAW error - <class 'yahoofinancials.ManagedException'>\n",
      "The process is still running...\n",
      "Warning! Ticker: AGBA error - <class 'yahoofinancials.ManagedException'>\n",
      "The process is still running...\n",
      "Warning! Ticker: AFYA error - <class 'yahoofinancials.ManagedException'>\n",
      "The process is still running...\n",
      "Warning! Ticker: AGBAU error - <class 'yahoofinancials.ManagedException'>\n",
      "The process is still running...\n",
      "Warning! Ticker: AGEN error - <class 'yahoofinancials.ManagedException'>\n",
      "The process is still running...\n",
      "Warning! Ticker: AGCO error - <class 'yahoofinancials.ManagedException'>\n",
      "The process is still running...\n",
      "Warning! Ticker: AGCUU error - <class 'yahoofinancials.ManagedException'>\n",
      "The process is still running...\n",
      "Warning! Ticker: AIPC error - <class 'yahoofinancials.ManagedException'>\n",
      "The process is still running...\n"
     ]
    }
   ],
   "source": [
    "companies = Company.objects.all()\n",
    "def refresh(company) :\n",
    "    try:\n",
    "        if len(BalanceSheet.objects.filter(company=company)) == 0 :\n",
    "            company.refresh()\n",
    "            return (company, 1)\n",
    "    except :\n",
    "        pass\n",
    "    \n",
    "    return (company, 0)\n",
    "    \n",
    "result = Parallel(n_jobs=10, prefer=\"threads\")(delayed(refresh)(company) for company in companies)\n"
   ]
  },
  {
   "cell_type": "code",
   "execution_count": 42,
   "metadata": {},
   "outputs": [],
   "source": [
    "from yahoofinancials import YahooFinancials\n",
    "\n",
    "ticker = 'AAPL'\n",
    "yahoo_financials = YahooFinancials(['AAPL'])\n",
    "\n",
    "balance_sheet_datas = yahoo_financials.get_financial_stmts('annual', 'balance')"
   ]
  },
  {
   "cell_type": "code",
   "execution_count": 43,
   "metadata": {},
   "outputs": [],
   "source": [
    "dfs = []\n",
    "for balance_sheet_data in balance_sheet_datas['balanceSheetHistory'][\"AAPL\"] :\n",
    "    dfs.append(pd.DataFrame.from_dict(balance_sheet_data, orient='index'))"
   ]
  },
  {
   "cell_type": "code",
   "execution_count": 44,
   "metadata": {},
   "outputs": [
    {
     "data": {
      "text/html": [
       "<div>\n",
       "<style scoped>\n",
       "    .dataframe tbody tr th:only-of-type {\n",
       "        vertical-align: middle;\n",
       "    }\n",
       "\n",
       "    .dataframe tbody tr th {\n",
       "        vertical-align: top;\n",
       "    }\n",
       "\n",
       "    .dataframe thead th {\n",
       "        text-align: right;\n",
       "    }\n",
       "</style>\n",
       "<table border=\"1\" class=\"dataframe\">\n",
       "  <thead>\n",
       "    <tr style=\"text-align: right;\">\n",
       "      <th></th>\n",
       "      <th>totalLiab</th>\n",
       "      <th>totalStockholderEquity</th>\n",
       "      <th>otherCurrentLiab</th>\n",
       "      <th>totalAssets</th>\n",
       "      <th>commonStock</th>\n",
       "      <th>otherCurrentAssets</th>\n",
       "      <th>retainedEarnings</th>\n",
       "      <th>otherLiab</th>\n",
       "      <th>treasuryStock</th>\n",
       "      <th>otherAssets</th>\n",
       "      <th>...</th>\n",
       "      <th>totalCurrentAssets</th>\n",
       "      <th>longTermInvestments</th>\n",
       "      <th>netTangibleAssets</th>\n",
       "      <th>shortTermInvestments</th>\n",
       "      <th>netReceivables</th>\n",
       "      <th>longTermDebt</th>\n",
       "      <th>inventory</th>\n",
       "      <th>accountsPayable</th>\n",
       "      <th>intangibleAssets</th>\n",
       "      <th>goodWill</th>\n",
       "    </tr>\n",
       "  </thead>\n",
       "  <tbody>\n",
       "    <tr>\n",
       "      <th>2019-09-28</th>\n",
       "      <td>248028000000</td>\n",
       "      <td>90488000000</td>\n",
       "      <td>43242000000</td>\n",
       "      <td>338516000000</td>\n",
       "      <td>45174000000</td>\n",
       "      <td>12352000000</td>\n",
       "      <td>45898000000</td>\n",
       "      <td>50503000000</td>\n",
       "      <td>-584000000</td>\n",
       "      <td>32978000000</td>\n",
       "      <td>...</td>\n",
       "      <td>162819000000</td>\n",
       "      <td>105341000000</td>\n",
       "      <td>90488000000</td>\n",
       "      <td>51713000000</td>\n",
       "      <td>45804000000</td>\n",
       "      <td>91807000000</td>\n",
       "      <td>4106000000</td>\n",
       "      <td>46236000000</td>\n",
       "      <td>NaN</td>\n",
       "      <td>NaN</td>\n",
       "    </tr>\n",
       "    <tr>\n",
       "      <th>2018-09-29</th>\n",
       "      <td>258578000000</td>\n",
       "      <td>107147000000</td>\n",
       "      <td>39293000000</td>\n",
       "      <td>365725000000</td>\n",
       "      <td>40201000000</td>\n",
       "      <td>12087000000</td>\n",
       "      <td>70400000000</td>\n",
       "      <td>48914000000</td>\n",
       "      <td>-3454000000</td>\n",
       "      <td>22283000000</td>\n",
       "      <td>...</td>\n",
       "      <td>131339000000</td>\n",
       "      <td>170799000000</td>\n",
       "      <td>107147000000</td>\n",
       "      <td>40388000000</td>\n",
       "      <td>48995000000</td>\n",
       "      <td>93735000000</td>\n",
       "      <td>3956000000</td>\n",
       "      <td>55888000000</td>\n",
       "      <td>NaN</td>\n",
       "      <td>NaN</td>\n",
       "    </tr>\n",
       "    <tr>\n",
       "      <th>2017-09-30</th>\n",
       "      <td>241272000000</td>\n",
       "      <td>134047000000</td>\n",
       "      <td>38099000000</td>\n",
       "      <td>375319000000</td>\n",
       "      <td>35867000000</td>\n",
       "      <td>13936000000</td>\n",
       "      <td>98330000000</td>\n",
       "      <td>43251000000</td>\n",
       "      <td>-150000000</td>\n",
       "      <td>18177000000</td>\n",
       "      <td>...</td>\n",
       "      <td>128645000000</td>\n",
       "      <td>194714000000</td>\n",
       "      <td>134047000000</td>\n",
       "      <td>53892000000</td>\n",
       "      <td>35673000000</td>\n",
       "      <td>97207000000</td>\n",
       "      <td>4855000000</td>\n",
       "      <td>44242000000</td>\n",
       "      <td>NaN</td>\n",
       "      <td>NaN</td>\n",
       "    </tr>\n",
       "    <tr>\n",
       "      <th>2016-09-24</th>\n",
       "      <td>193437000000</td>\n",
       "      <td>128249000000</td>\n",
       "      <td>8243000000</td>\n",
       "      <td>321686000000</td>\n",
       "      <td>31251000000</td>\n",
       "      <td>8283000000</td>\n",
       "      <td>96364000000</td>\n",
       "      <td>39004000000</td>\n",
       "      <td>634000000</td>\n",
       "      <td>8757000000</td>\n",
       "      <td>...</td>\n",
       "      <td>106869000000</td>\n",
       "      <td>170430000000</td>\n",
       "      <td>119629000000</td>\n",
       "      <td>46671000000</td>\n",
       "      <td>29299000000</td>\n",
       "      <td>75427000000</td>\n",
       "      <td>2132000000</td>\n",
       "      <td>37294000000</td>\n",
       "      <td>3.206000e+09</td>\n",
       "      <td>5.414000e+09</td>\n",
       "    </tr>\n",
       "  </tbody>\n",
       "</table>\n",
       "<p>4 rows × 25 columns</p>\n",
       "</div>"
      ],
      "text/plain": [
       "               totalLiab  totalStockholderEquity  otherCurrentLiab  \\\n",
       "2019-09-28  248028000000             90488000000       43242000000   \n",
       "2018-09-29  258578000000            107147000000       39293000000   \n",
       "2017-09-30  241272000000            134047000000       38099000000   \n",
       "2016-09-24  193437000000            128249000000        8243000000   \n",
       "\n",
       "             totalAssets  commonStock  otherCurrentAssets  retainedEarnings  \\\n",
       "2019-09-28  338516000000  45174000000         12352000000       45898000000   \n",
       "2018-09-29  365725000000  40201000000         12087000000       70400000000   \n",
       "2017-09-30  375319000000  35867000000         13936000000       98330000000   \n",
       "2016-09-24  321686000000  31251000000          8283000000       96364000000   \n",
       "\n",
       "              otherLiab  treasuryStock  otherAssets  ...  totalCurrentAssets  \\\n",
       "2019-09-28  50503000000     -584000000  32978000000  ...        162819000000   \n",
       "2018-09-29  48914000000    -3454000000  22283000000  ...        131339000000   \n",
       "2017-09-30  43251000000     -150000000  18177000000  ...        128645000000   \n",
       "2016-09-24  39004000000      634000000   8757000000  ...        106869000000   \n",
       "\n",
       "            longTermInvestments  netTangibleAssets  shortTermInvestments  \\\n",
       "2019-09-28         105341000000        90488000000           51713000000   \n",
       "2018-09-29         170799000000       107147000000           40388000000   \n",
       "2017-09-30         194714000000       134047000000           53892000000   \n",
       "2016-09-24         170430000000       119629000000           46671000000   \n",
       "\n",
       "            netReceivables  longTermDebt   inventory  accountsPayable  \\\n",
       "2019-09-28     45804000000   91807000000  4106000000      46236000000   \n",
       "2018-09-29     48995000000   93735000000  3956000000      55888000000   \n",
       "2017-09-30     35673000000   97207000000  4855000000      44242000000   \n",
       "2016-09-24     29299000000   75427000000  2132000000      37294000000   \n",
       "\n",
       "            intangibleAssets      goodWill  \n",
       "2019-09-28               NaN           NaN  \n",
       "2018-09-29               NaN           NaN  \n",
       "2017-09-30               NaN           NaN  \n",
       "2016-09-24      3.206000e+09  5.414000e+09  \n",
       "\n",
       "[4 rows x 25 columns]"
      ]
     },
     "execution_count": 44,
     "metadata": {},
     "output_type": "execute_result"
    }
   ],
   "source": [
    "pd.concat(dfs)"
   ]
  },
  {
   "cell_type": "code",
   "execution_count": 48,
   "metadata": {},
   "outputs": [],
   "source": [
    "data = yahoo_financials.get_financial_stmts('annual', ['income', 'cash', 'balance'])"
   ]
  },
  {
   "cell_type": "code",
   "execution_count": 52,
   "metadata": {},
   "outputs": [
    {
     "data": {
      "text/plain": [
       "'[{\"2019-09-28\": {\"researchDevelopment\": 16217000000, \"effectOfAccountingCharges\": null, \"incomeBeforeTax\": 65737000000, \"minorityInterest\": null, \"netIncome\": 55256000000, \"sellingGeneralAdministrative\": 18245000000, \"grossProfit\": 98392000000, \"ebit\": 63930000000, \"operatingIncome\": 63930000000, \"otherOperatingExpenses\": null, \"interestExpense\": -3576000000, \"extraordinaryItems\": null, \"nonRecurring\": null, \"otherItems\": null, \"incomeTaxExpense\": 10481000000, \"totalRevenue\": 260174000000, \"totalOperatingExpenses\": 196244000000, \"costOfRevenue\": 161782000000, \"totalOtherIncomeExpenseNet\": 1807000000, \"discontinuedOperations\": null, \"netIncomeFromContinuingOps\": 55256000000, \"netIncomeApplicableToCommonShares\": 55256000000}}, {\"2018-09-29\": {\"researchDevelopment\": 14236000000, \"effectOfAccountingCharges\": null, \"incomeBeforeTax\": 72903000000, \"minorityInterest\": null, \"netIncome\": 59531000000, \"sellingGeneralAdministrative\": 16705000000, \"grossProfit\": 101839000000, \"ebit\": 70898000000, \"operatingIncome\": 70898000000, \"otherOperatingExpenses\": null, \"interestExpense\": -3240000000, \"extraordinaryItems\": null, \"nonRecurring\": null, \"otherItems\": null, \"incomeTaxExpense\": 13372000000, \"totalRevenue\": 265595000000, \"totalOperatingExpenses\": 194697000000, \"costOfRevenue\": 163756000000, \"totalOtherIncomeExpenseNet\": 2005000000, \"discontinuedOperations\": null, \"netIncomeFromContinuingOps\": 59531000000, \"netIncomeApplicableToCommonShares\": 59531000000}}, {\"2017-09-30\": {\"researchDevelopment\": 11581000000, \"effectOfAccountingCharges\": null, \"incomeBeforeTax\": 64089000000, \"minorityInterest\": null, \"netIncome\": 48351000000, \"sellingGeneralAdministrative\": 15261000000, \"grossProfit\": 88186000000, \"ebit\": 61344000000, \"operatingIncome\": 61344000000, \"otherOperatingExpenses\": null, \"interestExpense\": -2323000000, \"extraordinaryItems\": null, \"nonRecurring\": null, \"otherItems\": null, \"incomeTaxExpense\": 15738000000, \"totalRevenue\": 229234000000, \"totalOperatingExpenses\": 167890000000, \"costOfRevenue\": 141048000000, \"totalOtherIncomeExpenseNet\": 2745000000, \"discontinuedOperations\": null, \"netIncomeFromContinuingOps\": 48351000000, \"netIncomeApplicableToCommonShares\": 48351000000}}, {\"2016-09-24\": {\"researchDevelopment\": 10045000000, \"effectOfAccountingCharges\": null, \"incomeBeforeTax\": 61372000000, \"minorityInterest\": null, \"netIncome\": 45687000000, \"sellingGeneralAdministrative\": 14194000000, \"grossProfit\": 84263000000, \"ebit\": 60024000000, \"operatingIncome\": 60024000000, \"otherOperatingExpenses\": null, \"interestExpense\": -1456000000, \"extraordinaryItems\": null, \"nonRecurring\": null, \"otherItems\": null, \"incomeTaxExpense\": 15685000000, \"totalRevenue\": 215639000000, \"totalOperatingExpenses\": 155615000000, \"costOfRevenue\": 131376000000, \"totalOtherIncomeExpenseNet\": 1348000000, \"discontinuedOperations\": null, \"netIncomeFromContinuingOps\": 45687000000, \"netIncomeApplicableToCommonShares\": 45687000000}}]'"
      ]
     },
     "execution_count": 52,
     "metadata": {},
     "output_type": "execute_result"
    }
   ],
   "source": [
    "import json\n",
    "json.dumps(data['incomeStatementHistory']['AAPL'])"
   ]
  },
  {
   "cell_type": "code",
   "execution_count": 53,
   "metadata": {},
   "outputs": [
    {
     "data": {
      "text/plain": [
       "dict_keys(['incomeStatementHistory', 'cashflowStatementHistory', 'balanceSheetHistory'])"
      ]
     },
     "execution_count": 53,
     "metadata": {},
     "output_type": "execute_result"
    }
   ],
   "source": [
    "data.keys()"
   ]
  },
  {
   "cell_type": "code",
   "execution_count": null,
   "metadata": {},
   "outputs": [],
   "source": []
  }
 ],
 "metadata": {
  "kernelspec": {
   "display_name": "Python 3",
   "language": "python",
   "name": "python3"
  },
  "language_info": {
   "codemirror_mode": {
    "name": "ipython",
    "version": 3
   },
   "file_extension": ".py",
   "mimetype": "text/x-python",
   "name": "python",
   "nbconvert_exporter": "python",
   "pygments_lexer": "ipython3",
   "version": "3.7.9"
  }
 },
 "nbformat": 4,
 "nbformat_minor": 4
}
